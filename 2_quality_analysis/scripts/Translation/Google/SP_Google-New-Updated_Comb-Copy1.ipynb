{
 "cells": [
  {
   "cell_type": "code",
   "execution_count": 1,
   "id": "c112feee",
   "metadata": {},
   "outputs": [
    {
     "name": "stdout",
     "output_type": "stream",
     "text": [
      "Column names in the dataset: Index(['en', 'Relevant'], dtype='object')\n",
      "Translation completed and saved to /home/u23/afraaalshammari/Transl/SpaD/New_IR_Data/Round2/TransTask1/GoogleAPI/Google_En_SP_binary_complete.tsv\n"
     ]
    }
   ],
   "source": [
    "import pandas as pd\n",
    "from google.cloud import translate_v2 as translate\n",
    "import os\n",
    "\n",
    "# Set up the Google Cloud API credentials\n",
    "os.environ['GOOGLE_APPLICATION_CREDENTIALS'] = '/home/u23/afraaalshammari/Transl/SpaD/New_IR_Data/Round2/TransTask1/GoogleAPI/animated-flow-427022-p7-6273c7e0f89f.json'\n",
    "\n",
    "# Initialize the Google Translate API\n",
    "translate_client = translate.Client()\n",
    "\n",
    "# Load the data\n",
    "file_path = '/home/u23/afraaalshammari/Transl/SpaD/New_IR_Data/Round2/TransTask1/GoogleAPI/en_annotations_binary_complete.tsv'  # Updated file path\n",
    "data = pd.read_csv(file_path, sep='\\t')\n",
    "\n",
    "# Print column names to verify\n",
    "print(\"Column names in the dataset:\", data.columns)\n",
    "\n",
    "# Assuming the Arabic text is in the 'ar' column\n",
    "translated_texts = []\n",
    "for text in data['en']:  # Make sure to replace 'ar' with the actual column name containing Arabic text\n",
    "    try:\n",
    "        translation = translate_client.translate(text, source_language='en', target_language='es')\n",
    "        translated_text = translation['translatedText']\n",
    "        translated_texts.append(translated_text)\n",
    "    except Exception as e:\n",
    "        print(f\"Error translating text: {text}. Error: {e}\")\n",
    "        translated_texts.append(text)  # Append the original text if translation fails\n",
    "\n",
    "# Replace the original text with the translated text\n",
    "data['en'] = translated_texts  # Update the column with translated texts\n",
    "\n",
    "# Save the translated data to a new TSV file\n",
    "translated_file_path = '/home/u23/afraaalshammari/Transl/SpaD/New_IR_Data/Round2/TransTask1/GoogleAPI/Google_En_SP_binary_complete.tsv'\n",
    "data.to_csv(translated_file_path, sep='\\t', index=False)\n",
    "\n",
    "print(\"Translation completed and saved to\", translated_file_path)\n",
    "\n",
    "\n"
   ]
  },
  {
   "cell_type": "code",
   "execution_count": null,
   "id": "db499612",
   "metadata": {},
   "outputs": [],
   "source": []
  }
 ],
 "metadata": {
  "kernelspec": {
   "display_name": "Python 3 (ipykernel)",
   "language": "python",
   "name": "python3"
  },
  "language_info": {
   "codemirror_mode": {
    "name": "ipython",
    "version": 3
   },
   "file_extension": ".py",
   "mimetype": "text/x-python",
   "name": "python",
   "nbconvert_exporter": "python",
   "pygments_lexer": "ipython3",
   "version": "3.8.12"
  }
 },
 "nbformat": 4,
 "nbformat_minor": 5
}
