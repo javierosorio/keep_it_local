{
 "cells": [
  {
   "cell_type": "code",
   "execution_count": 2,
   "id": "5291d93a",
   "metadata": {},
   "outputs": [
    {
     "name": "stdout",
     "output_type": "stream",
     "text": [
      "Defaulting to user installation because normal site-packages is not writeable\n",
      "Requirement already satisfied: sentencepiece in /home/u23/afraaalshammari/.local/lib/python3.8/site-packages (0.2.0)\n"
     ]
    }
   ],
   "source": [
    "#!pip install transformers pandas torch\n",
    "!pip install sentencepiece\n"
   ]
  },
  {
   "cell_type": "code",
   "execution_count": 2,
   "id": "b70e7de7",
   "metadata": {},
   "outputs": [
    {
     "name": "stderr",
     "output_type": "stream",
     "text": [
      "/home/u23/afraaalshammari/.local/lib/python3.8/site-packages/transformers/models/marian/tokenization_marian.py:175: UserWarning: Recommended: pip install sacremoses.\n",
      "  warnings.warn(\"Recommended: pip install sacremoses.\")\n"
     ]
    },
    {
     "name": "stdout",
     "output_type": "stream",
     "text": [
      "Translation completed and saved to /home/u23/afraaalshammari/Transl/SpaD/New_IR_Data/Round2/TransTask1/Transformers/Transformers_En_ES_complete.tsv\n"
     ]
    }
   ],
   "source": [
    "# Ensure necessary packages are installed\n",
    "# !pip install transformers pandas torch sentencepiece\n",
    "\n",
    "import pandas as pd\n",
    "from transformers import MarianMTModel, MarianTokenizer\n",
    "\n",
    "def load_model_and_tokenizer(model_name):\n",
    "    tokenizer = MarianTokenizer.from_pretrained(model_name)\n",
    "    model = MarianMTModel.from_pretrained(model_name)\n",
    "    return tokenizer, model\n",
    "\n",
    "def translate_text(texts, tokenizer, model):\n",
    "    translated_texts = []\n",
    "    for text in texts:\n",
    "        try:\n",
    "            # Ensure the input is a string\n",
    "            text = str(text)\n",
    "            \n",
    "            # Tokenize the text\n",
    "            inputs = tokenizer.encode(text, return_tensors='pt', max_length=512, truncation=True)\n",
    "            \n",
    "            # Generate translation\n",
    "            translated_tokens = model.generate(inputs, max_length=512, num_beams=4, early_stopping=True)\n",
    "            \n",
    "            # Decode the translation\n",
    "            translation = tokenizer.decode(translated_tokens[0], skip_special_tokens=True)\n",
    "            \n",
    "            translated_texts.append(translation)\n",
    "        except Exception as e:\n",
    "            print(f\"Error translating text: {text}. Error: {e}\")\n",
    "            translated_texts.append(text)  # Append the original text if translation fails\n",
    "    return translated_texts\n",
    "\n",
    "def translate_file(input_file, output_file, model_name):\n",
    "    # Load the data\n",
    "    data = pd.read_csv(input_file, sep='\\t')\n",
    "    \n",
    "    # Convert all entries in the 'en' column to strings\n",
    "    data['en'] = data['en'].astype(str)\n",
    "    \n",
    "    # Load the pre-trained model and tokenizer\n",
    "    tokenizer, model = load_model_and_tokenizer(model_name)\n",
    "    \n",
    "    # Translate the text in the 'en' column\n",
    "    translated_texts = translate_text(data['en'].tolist(), tokenizer, model)\n",
    "    \n",
    "    # Replace the original text with the translated text\n",
    "    data['en'] = translated_texts\n",
    "    \n",
    "    # Save the translated data to a new TSV file\n",
    "    data.to_csv(output_file, sep='\\t', index=False)\n",
    "    print(f\"Translation completed and saved to {output_file}\")\n",
    "\n",
    "# Define model name for English to Spanish translation\n",
    "english_to_spanish_model = 'Helsinki-NLP/opus-mt-en-es'\n",
    "\n",
    "# Translate English to Spanish\n",
    "input_file_path = '/home/u23/afraaalshammari/Transl/SpaD/New_IR_Data/Round2/TransTask1/Transformers/en_annotations_binary_complete.tsv'\n",
    "output_file_path = '/home/u23/afraaalshammari/Transl/SpaD/New_IR_Data/Round2/TransTask1/Transformers/Transformers_En_ES_complete.tsv'\n",
    "translate_file(input_file_path, output_file_path, english_to_spanish_model)\n"
   ]
  },
  {
   "cell_type": "code",
   "execution_count": 6,
   "id": "4d7c707f",
   "metadata": {},
   "outputs": [
    {
     "name": "stdout",
     "output_type": "stream",
     "text": [
      "0.2.0\n"
     ]
    }
   ],
   "source": [
    "# Test sentencepiece installation\n",
    "import sentencepiece as spm\n",
    "print(spm.__version__)\n"
   ]
  },
  {
   "cell_type": "code",
   "execution_count": null,
   "id": "ac19dd22",
   "metadata": {},
   "outputs": [],
   "source": []
  }
 ],
 "metadata": {
  "kernelspec": {
   "display_name": "Python 3 (ipykernel)",
   "language": "python",
   "name": "python3"
  },
  "language_info": {
   "codemirror_mode": {
    "name": "ipython",
    "version": 3
   },
   "file_extension": ".py",
   "mimetype": "text/x-python",
   "name": "python",
   "nbconvert_exporter": "python",
   "pygments_lexer": "ipython3",
   "version": "3.8.12"
  }
 },
 "nbformat": 4,
 "nbformat_minor": 5
}
